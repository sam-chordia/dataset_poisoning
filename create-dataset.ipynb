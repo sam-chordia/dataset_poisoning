{
 "cells": [
  {
   "cell_type": "code",
   "execution_count": 13,
   "id": "698a9ce5",
   "metadata": {},
   "outputs": [],
   "source": [
    "import kagglehub\n",
    "import os\n",
    "import shutil"
   ]
  },
  {
   "cell_type": "code",
   "execution_count": 14,
   "id": "a711bcfd",
   "metadata": {},
   "outputs": [
    {
     "name": "stdout",
     "output_type": "stream",
     "text": [
      "Path to dataset files: /home/cs601-tyildir1/.cache/kagglehub/datasets/jiscecseaiml/vulnerability-fix-dataset/versions/1\n",
      "All files moved to: ./data\n"
     ]
    }
   ],
   "source": [
    "path = kagglehub.dataset_download(\"jiscecseaiml/vulnerability-fix-dataset\")\n",
    "\n",
    "print(\"Path to dataset files:\", path)\n",
    "\n",
    "target_dir = './data'\n",
    "os.makedirs(target_dir, exist_ok=True)\n",
    "\n",
    "# Move all files from the downloaded path to the target directory\n",
    "for filename in os.listdir(path):\n",
    "    src_file = os.path.join(path, filename)\n",
    "    dst_file = os.path.join(target_dir, filename)\n",
    "    shutil.move(src_file, dst_file)\n",
    "\n",
    "print(f\"All files moved to: {target_dir}\")"
   ]
  }
 ],
 "metadata": {
  "kernelspec": {
   "display_name": "nlp-final",
   "language": "python",
   "name": "python3"
  },
  "language_info": {
   "codemirror_mode": {
    "name": "ipython",
    "version": 3
   },
   "file_extension": ".py",
   "mimetype": "text/x-python",
   "name": "python",
   "nbconvert_exporter": "python",
   "pygments_lexer": "ipython3",
   "version": "3.10.13"
  }
 },
 "nbformat": 4,
 "nbformat_minor": 5
}
